{
 "cells": [
  {
   "cell_type": "markdown",
   "metadata": {},
   "source": [
    "# Multi-Agent Systems for Data Science\n",
    "\n",
    "We introduce the concept of agents, multi-agent systems and illustrate the potential of such systems in automating data science tasks, such as software development. We use [OpenHands](https://github.com/All-Hands-AI/OpenHands) as our agentic software development example.\n",
    "\n",
    "Useful references include:\n",
    "\n",
    "- [*Multi-Agent Reinforcement Learning: Foundations and Modern Approaches*, Albrecht, Christianos, Schafler (2024)](https://www.marl-book.com/)\n",
    "\n",
    "- [*AutoGen: Enabling Next-Gen LLM Applications via Multi-Agent Conversation Framework*, Wu et al (2023)](https://arxiv.org/abs/2308.08155)\n",
    "\n",
    "- [*OpenHands: An Open Platform for AI Software Developers as Generalist Agents*, Wang et al (2024)](https://github.com/All-Hands-AI/OpenHands)\n",
    "\n",
    "- [*Multi-Agent System for Cosmological Parameter Analysis*, Laverick et al (2024)](https://arxiv.org/abs/2412...)\n",
    "\n",
    "\n",
    "\n",
    "## Agency\n",
    "\n",
    "The English language has a great word (that doesn't exist in French): **agency**.  \n",
    "\n",
    "It means the *ability to act*. \n",
    "\n",
    "\n"
   ]
  }
 ],
 "metadata": {
  "language_info": {
   "name": "python"
  }
 },
 "nbformat": 4,
 "nbformat_minor": 2
}
