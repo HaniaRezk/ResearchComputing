{
 "cells": [
  {
   "cell_type": "markdown",
   "metadata": {},
   "source": [
    "# Multi-Agent Systems for Data Science\n",
    "\n",
    "We introduce the concept of agents, multi-agent systems and illustrate the potential of such systems in automating data science tasks, such as software development or data analysis. We use [OpenHands](https://github.com/All-Hands-AI/OpenHands) as our agentic software development example. For an example of multi-agent systems for cosmological data analysis, see [cmbagent](https://github.com/CMBagents/cmbagent).\n",
    "\n",
    "Useful references include:\n",
    "\n",
    "- [*Multi-Agent Reinforcement Learning: Foundations and Modern Approaches*, Albrecht, Christianos, Schafler (2024)](https://www.marl-book.com/)\n",
    "\n",
    "- [*AutoGen: Enabling Next-Gen LLM Applications via Multi-Agent Conversation Framework*, Wu et al (2023)](https://arxiv.org/abs/2308.08155)\n",
    "\n",
    "- [*OpenHands: An Open Platform for AI Software Developers as Generalist Agents*, Wang et al (2024)](https://github.com/All-Hands-AI/OpenHands)\n",
    "\n",
    "- [*Multi-Agent System for Cosmological Parameter Analysis*, Laverick et al (2024)](https://arxiv.org/abs/2412...)\n",
    "\n",
    "- [Large Language Model Agents MOOC, Berkeley](https://llmagents-learning.org/f24)\n",
    "\n",
    "\n",
    "## Agency\n",
    "\n",
    "The English language has a great word (that doesn't exist in French): **agency**.  \n",
    "\n",
    "It means the *ability to act*. "
   ]
  },
  {
   "cell_type": "markdown",
   "metadata": {},
   "source": [
    "<img src=\"MASMARL.png\" alt=\"Agency\" width=\"500\">\n",
    "\n",
    "*Multi-agent systems and multi-agent reinforcement learning*\n"
   ]
  }
 ],
 "metadata": {
  "language_info": {
   "name": "python"
  }
 },
 "nbformat": 4,
 "nbformat_minor": 2
}
